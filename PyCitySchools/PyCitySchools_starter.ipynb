{
 "cells": [
  {
   "cell_type": "markdown",
   "metadata": {},
   "source": [
    "# PyCity Schools Analysis\n",
    "\n",
    "- Your analysis here\n",
    "  \n",
    "---"
   ]
  },
  {
   "cell_type": "code",
   "execution_count": null,
   "metadata": {},
   "outputs": [],
   "source": [
    "#Dependencies and Setup\n",
    "import pandas as pd\n",
    "from pathlib import Path\n",
    "\n",
    "#File to load\n",
    "school_data_to_load = Path(r\"C:\\Users\\RyanF\\Documents\\Bootcamp Challenges\\Mod 4\\Pandas_Challenge\\Pandas_Challenge\\PyCitySchools\\Resources\\schools_complete.csv\")\n",
    "student_data_to_load = Path(r\"C:\\Users\\RyanF\\Documents\\Bootcamp Challenges\\Mod 4\\Pandas_Challenge\\Pandas_Challenge\\PyCitySchools\\Resources\\students_complete.csv\") \n",
    "\n",
    "#Read school and student data file and store into pandas dataframes\n",
    "school_data = pd.read_csv(school_data_to_load)\n",
    "student_data = pd.read_csv(student_data_to_load)\n",
    "\n",
    "#Combine the data into a single dataset\n",
    "school_data_complete = pd.merge(student_data, school_data, how=\"left\", on=[\"school_name\",\"school_name\"])\n",
    "school_data_complete.head()"
   ]
  },
  {
   "cell_type": "markdown",
   "metadata": {},
   "source": [
    "## District Summary"
   ]
  },
  {
   "cell_type": "code",
   "execution_count": null,
   "metadata": {},
   "outputs": [],
   "source": [
    "# Assign school_data_complete DataFrame\n",
    "df = pd.DataFrame(school_data_complete)\n",
    "\n",
    "# Calculate the total number of unique schools\n",
    "total_unique_schools = df[\"school_name\"].nunique()\n",
    "\n",
    "# print number of schools\n",
    "print(f\"Number of Unique Schools: {total_unique_schools}\")\n"
   ]
  },
  {
   "cell_type": "code",
   "execution_count": null,
   "metadata": {},
   "outputs": [],
   "source": [
    "# Calculate the total number of students\n",
    "student_count = df[\"student_name\"].count()\n",
    "print(f\"Total Number of Students: {student_count}\")"
   ]
  },
  {
   "cell_type": "code",
   "execution_count": null,
   "metadata": {},
   "outputs": [],
   "source": [
    "# Calculate the total budget\n",
    "total_budget = school_data.budget.sum()\n",
    "print(f\"Total Budget: {total_budget}\")"
   ]
  },
  {
   "cell_type": "code",
   "execution_count": null,
   "metadata": {},
   "outputs": [],
   "source": [
    "# Calculate the average (mean) math score\n",
    "average_math_score = student_data.math_score.mean()\n",
    "print(f\"Average Math Score: {average_math_score}\")"
   ]
  },
  {
   "cell_type": "code",
   "execution_count": null,
   "metadata": {},
   "outputs": [],
   "source": [
    "# Calculate the average (mean) reading score\n",
    "average_reading_score = student_data.reading_score.mean()\n",
    "print(f\"Average Reading Score: {average_reading_score}\")"
   ]
  },
  {
   "cell_type": "code",
   "execution_count": null,
   "metadata": {},
   "outputs": [],
   "source": [
    "# Use the following to calculate the percentage of students who passed math (math scores greather than or equal to 70)\n",
    "passing_math_count = school_data_complete[(school_data_complete[\"math_score\"] >= 70)].count()[\"student_name\"]\n",
    "passing_math_percentage = passing_math_count / float(student_count) * 100\n",
    "print(f\"Percentage of students who passed Math: {passing_math_percentage}%\")"
   ]
  },
  {
   "cell_type": "code",
   "execution_count": null,
   "metadata": {},
   "outputs": [],
   "source": [
    "# Calculate the percentage of students who passed reading (hint: look at how the math percentage was calculated)  \n",
    "passing_reading_count = school_data_complete[(school_data_complete[\"reading_score\"] >= 70)].count()[\"student_name\"]\n",
    "passing_reading_percentage = passing_reading_count / float(student_count) * 100\n",
    "print(f\"Percentage of students who passed Reading: {passing_reading_percentage}%\") "
   ]
  },
  {
   "cell_type": "code",
   "execution_count": null,
   "metadata": {},
   "outputs": [],
   "source": [
    "# Use the following to calculate the percentage of students that passed math and reading\n",
    "passing_math_reading_count = school_data_complete[\n",
    "    (school_data_complete[\"math_score\"] >= 70) & (school_data_complete[\"reading_score\"] >= 70)\n",
    "].count()[\"student_name\"]\n",
    "overall_passing_rate = passing_math_reading_count /  float(student_count) * 100\n",
    "print(f\"Overall Passing Rate: {overall_passing_rate}%\")"
   ]
  },
  {
   "cell_type": "code",
   "execution_count": null,
   "metadata": {},
   "outputs": [],
   "source": [
    "# Create a high-level snapshot of the district's key metrics in a DataFrame\n",
    "district_summary = pd.DataFrame({\"Total Schools\":[total_unique_schools],\n",
    "                                \"Total Students\": [student_count], \n",
    "                                 \"Total Budget\": [total_budget], \n",
    "                                 \"Average Math Score\": [average_math_score],\n",
    "                                \"Average Reading Score\": [average_reading_score],\n",
    "                                 \"Passing Math Percentage\": [passing_math_percentage],\n",
    "                                 \"Passing Reading Percentage\": [passing_reading_percentage],\n",
    "                                \"Overall Passing Rate\": [overall_passing_rate]})\n",
    "# Formatting\n",
    "district_summary[\"Total Students\"] = district_summary[\"Total Students\"].map(\"{:,}\".format)\n",
    "district_summary[\"Total Budget\"] = district_summary[\"Total Budget\"].map(\"${:,.2f}\".format)\n",
    "\n",
    "# Display the DataFrame\n",
    "district_summary"
   ]
  },
  {
   "cell_type": "markdown",
   "metadata": {},
   "source": [
    "## School Summary"
   ]
  },
  {
   "cell_type": "code",
   "execution_count": null,
   "metadata": {},
   "outputs": [],
   "source": [
    "# Use the code provided to select all of the school types\n",
    "school_types = df[\"type\"].unique()\n",
    "print(school_types)"
   ]
  },
  {
   "cell_type": "code",
   "execution_count": null,
   "metadata": {},
   "outputs": [],
   "source": [
    "# school type per school\n",
    "per_school_types = df.groupby(\"school_name\")[\"type\"].unique()\n",
    "\n",
    "# print school type\n",
    "print(per_school_types)"
   ]
  },
  {
   "cell_type": "code",
   "execution_count": null,
   "metadata": {},
   "outputs": [],
   "source": [
    "# Calculate the total student count per school\n",
    "per_school_counts = df.groupby(\"school_name\")[\"student_name\"].count()\n",
    "\n",
    "#print list of schools with student count\n",
    "print(f\"Total Student Count per School: {per_school_counts}\")"
   ]
  },
  {
   "cell_type": "code",
   "execution_count": null,
   "metadata": {},
   "outputs": [],
   "source": [
    "#Calculate the total school budget per school\n",
    "per_school_budget = df.groupby([\"school_name\"]).mean()[\"budget\"]\n",
    "\n",
    "#print total school budget per school\n",
    "print(per_school_budget)"
   ]
  },
  {
   "cell_type": "code",
   "execution_count": null,
   "metadata": {},
   "outputs": [],
   "source": [
    "# Calculate the total school per capita spending per school\n",
    "per_school_capita = per_school_budget/per_school_counts\n",
    "\n",
    "# print per capita spending per school\n",
    "print(per_school_capita)"
   ]
  },
  {
   "cell_type": "code",
   "execution_count": null,
   "metadata": {},
   "outputs": [],
   "source": [
    "# Calculate the average math test scores per school\n",
    "per_school_math_avg = df.groupby([\"school_name\"]).mean()[\"math_score\"]\n",
    "\n",
    "# print average math test scores per school\n",
    "print(per_school_math_avg)"
   ]
  },
  {
   "cell_type": "code",
   "execution_count": null,
   "metadata": {},
   "outputs": [],
   "source": [
    "# Calculate the average reading test scores per school\n",
    "per_school_reading_avg = df.groupby([\"school_name\"]).mean()[\"reading_score\"]\n",
    "\n",
    "# print average reading scores per school\n",
    "print(per_school_reading_avg )"
   ]
  },
  {
   "cell_type": "code",
   "execution_count": null,
   "metadata": {},
   "outputs": [],
   "source": [
    "# Calculate the number of students per school with math scores of 70 or higher\n",
    "students_passing_math = df[df[\"math_score\"] >= 70].groupby(\"school_name\")[\"student_name\"].count()\n",
    "\n",
    "# print number of students per school with math scores of 70 or higher\n",
    "print(students_passing_math)                           "
   ]
  },
  {
   "cell_type": "code",
   "execution_count": null,
   "metadata": {},
   "outputs": [],
   "source": [
    "# Calculate the number of students per school with reading scores of 70 or higher\n",
    "students_passing_reading = df[df[\"reading_score\"] >= 70].groupby(\"school_name\")[\"student_name\"].count()\n",
    "\n",
    "# print number of students per school with reading scores of 70 or higher\n",
    "print(students_passing_reading)   "
   ]
  },
  {
   "cell_type": "code",
   "execution_count": null,
   "metadata": {},
   "outputs": [],
   "source": [
    "students_passing_math_and_reading = school_data_complete[\n",
    "    (school_data_complete[\"reading_score\"] >= 70) & (school_data_complete[\"math_score\"] >= 70)\n",
    "]\n",
    "school_students_passing_math_and_reading = students_passing_math_and_reading.groupby([\"school_name\"]).size()\n",
    "\n",
    "print(school_students_passing_math_and_reading)"
   ]
  },
  {
   "cell_type": "code",
   "execution_count": null,
   "metadata": {},
   "outputs": [],
   "source": [
    "# passing math rates per school\n",
    "per_school_passing_math = students_passing_math / per_school_counts * 100\n",
    "\n",
    "# print math rates per school\n",
    "print(per_school_passing_math)"
   ]
  },
  {
   "cell_type": "code",
   "execution_count": null,
   "metadata": {},
   "outputs": [],
   "source": [
    "# passing reading rates per school\n",
    "per_school_passing_reading = students_passing_reading / per_school_counts * 100\n",
    "\n",
    "# print math rates per school\n",
    "print(per_school_passing_reading)"
   ]
  },
  {
   "cell_type": "code",
   "execution_count": null,
   "metadata": {},
   "outputs": [],
   "source": [
    "# overall passing rates per school\n",
    "overall_passing_rate = school_students_passing_math_and_reading / per_school_counts * 100\n",
    "\n",
    "# print math & reading rates per school\n",
    "print(overall_passing_rate)"
   ]
  },
  {
   "cell_type": "code",
   "execution_count": null,
   "metadata": {},
   "outputs": [],
   "source": [
    "# Create a DataFrame called `per_school_summary` with columns for the calculations above.\n",
    "per_school_summary = pd.DataFrame({\"School Type\": per_school_types,\n",
    "                       \"Total Students\": per_school_counts,\n",
    "                      \"Total School Budget\": per_school_budget,\n",
    "                       \"Per Student Budget\": per_school_capita,\n",
    "                       \"Average Math Score\": per_school_math_avg,\n",
    "                       \"Average Reading Score\": per_school_reading_avg,\n",
    "                       \"Students Passing Math\": students_passing_math,\n",
    "                       \"Students Passing Reading\": students_passing_reading,\n",
    "                       \"Students Passing Both Math & Reading\": school_students_passing_math_and_reading,\n",
    "                       \"% Passing Math\": per_school_passing_math,\n",
    "                       \"% Passing Reading\": per_school_passing_reading,\n",
    "                       \"% Passing Overall\": overall_passing_rate})                    \n",
    "                      \n",
    "# Formatting\n",
    "per_school_summary[\"Total School Budget\"] = per_school_summary[\"Total School Budget\"].map(\"${:,.2f}\".format)\n",
    "per_school_summary[\"Per Student Budget\"] = per_school_summary[\"Per Student Budget\"].map(\"${:,.2f}\".format)\n",
    "per_school_summary[\"Average Math Score\"] = per_school_summary[\"Average Math Score\"].map(\"{:.1f}\".format)\n",
    "per_school_summary[\"Average Reading Score\"] = per_school_summary[\"Average Reading Score\"].map(\"{:.1f}\".format)\n",
    "per_school_summary[\"% Passing Math\"] = per_school_summary[\"% Passing Math\"].map(\"{:.1f}\".format)\n",
    "per_school_summary[\"% Passing Reading\"] = per_school_summary[\"% Passing Reading\"].map(\"{:.1f}\".format)\n",
    "per_school_summary[\"% Passing Overall\"] = per_school_summary[\"% Passing Overall\"].map(\"{:.1f}\".format)\n",
    "\n",
    "# Display the DataFrame\n",
    "per_school_summary"
   ]
  },
  {
   "cell_type": "markdown",
   "metadata": {},
   "source": [
    "## Highest-Performing Schools (by % Overall Passing)"
   ]
  },
  {
   "cell_type": "code",
   "execution_count": null,
   "metadata": {},
   "outputs": [],
   "source": [
    "# Sort the schools by Overall Passing % in descending order\n",
    "top_schools = per_school_summary.sort_values(\"% Passing Overall\", ascending=False)\n",
    "\n",
    "#Disply top 5 schools\n",
    "top_schools.head(5)"
   ]
  },
  {
   "cell_type": "markdown",
   "metadata": {},
   "source": [
    "## Bottom Performing Schools (By % Overall Passing)"
   ]
  },
  {
   "cell_type": "code",
   "execution_count": null,
   "metadata": {},
   "outputs": [],
   "source": [
    "# Sort the schools by `% Overall Passing` in ascending order\n",
    "bottom_schools = per_school_summary.sort_values(\"% Passing Overall\", ascending=True)\n",
    "\n",
    "# Disply the 5 bottom schools\n",
    "bottom_schools.head(5)"
   ]
  },
  {
   "cell_type": "markdown",
   "metadata": {},
   "source": [
    "## Math Scores by Grade"
   ]
  },
  {
   "cell_type": "code",
   "execution_count": null,
   "metadata": {},
   "outputs": [],
   "source": [
    "# 9th grade conditional variable \n",
    "ninth_graders = school_data_complete[(school_data_complete[\"grade\"] == \"9th\")]\n",
    "\n",
    "# 9th grade mean of the math scores\n",
    "ninth_grade_math_scores = ninth_graders.groupby([\"school_name\"]).mean()[\"math_score\"] \n",
    "\n",
    "# print 9th grade mean scores by school\n",
    "print(ninth_grade_math_scores)"
   ]
  },
  {
   "cell_type": "code",
   "execution_count": null,
   "metadata": {},
   "outputs": [],
   "source": [
    "# 10th grade conditional variable\n",
    "tenth_graders = school_data_complete[(school_data_complete[\"grade\"] == \"10th\")]\n",
    "\n",
    "# group by school name and calculate mean of math scores\n",
    "tenth_grader_math_scores = tenth_graders.groupby(\"school_name\")[\"math_score\"].mean()\n",
    "\n",
    "# print 10th grade mean scores by school\n",
    "print(tenth_grader_math_scores)"
   ]
  },
  {
   "cell_type": "code",
   "execution_count": null,
   "metadata": {},
   "outputs": [],
   "source": [
    "# 11th grade conditional variable\n",
    "eleventh_graders = school_data_complete[(school_data_complete[\"grade\"] == \"11th\")]\n",
    "\n",
    "# 11th grade mean of the math scores\n",
    "eleventh_grader_math_scores = eleventh_graders.groupby([\"school_name\"]).mean()[\"math_score\"] \n",
    "\n",
    "# print 11th grade mean scores by school\n",
    "print(eleventh_grader_math_scores)"
   ]
  },
  {
   "cell_type": "code",
   "execution_count": null,
   "metadata": {},
   "outputs": [],
   "source": [
    "# 12th grade conditional variable \n",
    "twelfth_graders = school_data_complete[(school_data_complete[\"grade\"] == \"12th\")]\n",
    "\n",
    "# 12th grade mean of the math scores\n",
    "twelfth_grader_math_scores = twelfth_graders.groupby([\"school_name\"]).mean()[\"math_score\"] \n",
    "\n",
    "# print 12th grade mean scores by school\n",
    "print(twelfth_grader_math_scores)"
   ]
  },
  {
   "cell_type": "code",
   "execution_count": null,
   "metadata": {},
   "outputs": [],
   "source": [
    "# Combine each of the scores above into single DataFrame called `math_scores_by_grade`\n",
    "math_scores_by_grade = pd.DataFrame({\"Ninth Grader Math Scores\": ninth_grade_math_scores,\n",
    "                                     \"Tenth Grader Math Scores\": tenth_grader_math_scores,\n",
    "                                     \"Eleventh Grader Math Scores\": eleventh_grader_math_scores,\n",
    "                                     \"Twelfth Grader Math Scores\": twelfth_grader_math_scores})\n",
    "\n",
    "# Minor data wrangling\n",
    "math_scores_by_grade.index.name = None\n",
    "\n",
    "# Display the DataFrame\n",
    "math_scores_by_grade"
   ]
  },
  {
   "cell_type": "markdown",
   "metadata": {},
   "source": [
    "## Reading Score by Grade "
   ]
  },
  {
   "cell_type": "code",
   "execution_count": null,
   "metadata": {},
   "outputs": [],
   "source": [
    "# 9th grade conditional variable \n",
    "ninth_graders = school_data_complete[(school_data_complete[\"grade\"] == \"9th\")]\n",
    "\n",
    "# 9th grade mean of the math scores\n",
    "ninth_grade_reading_scores = ninth_graders.groupby([\"school_name\"]).mean()[\"reading_score\"] \n",
    "\n",
    "# print 9th grade mean scores by school\n",
    "print(ninth_grade_reading_scores)"
   ]
  },
  {
   "cell_type": "code",
   "execution_count": null,
   "metadata": {},
   "outputs": [],
   "source": [
    "# 10th grade conditional variable\n",
    "tenth_graders = school_data_complete[(school_data_complete[\"grade\"] == \"10th\")]\n",
    "\n",
    "# group by school name and calculate mean of math scores\n",
    "tenth_grader_reading_scores = tenth_graders.groupby(\"school_name\")[\"reading_score\"].mean()\n",
    "\n",
    "# print 10th grade mean scores by school\n",
    "print(tenth_grader_reading_scores)"
   ]
  },
  {
   "cell_type": "code",
   "execution_count": null,
   "metadata": {},
   "outputs": [],
   "source": [
    "# 11th grade conditional variable\n",
    "eleventh_graders = school_data_complete[(school_data_complete[\"grade\"] == \"11th\")]\n",
    "\n",
    "# 11th grade mean of the math scores\n",
    "eleventh_grader_reading_scores = eleventh_graders.groupby([\"school_name\"]).mean()[\"reading_score\"] \n",
    "\n",
    "# print 11th grade mean scores by school\n",
    "print(eleventh_grader_reading_scores)"
   ]
  },
  {
   "cell_type": "code",
   "execution_count": null,
   "metadata": {},
   "outputs": [],
   "source": [
    "# 12th grade conditional variable \n",
    "twelfth_graders = school_data_complete[(school_data_complete[\"grade\"] == \"12th\")]\n",
    "\n",
    "# 12th grade mean of the math scores\n",
    "twelfth_grader_reading_scores = twelfth_graders.groupby([\"school_name\"]).mean()[\"reading_score\"] \n",
    "\n",
    "# print 12th grade mean scores by school\n",
    "print(twelfth_grader_reading_scores)"
   ]
  },
  {
   "cell_type": "code",
   "execution_count": null,
   "metadata": {},
   "outputs": [],
   "source": [
    "# Combine each of the scores above into single DataFrame called `math_scores_by_grade`\n",
    "reading_scores_by_grade = pd.DataFrame({\"9th Grader Reading Scores\": ninth_grade_reading_scores,\n",
    "                                     \"10th Grader Reading Scores\": tenth_grader_reading_scores,\n",
    "                                     \"11th Grader Reading Scores\": eleventh_grader_reading_scores,\n",
    "                                     \"12th Grader Reading Scores\": twelfth_grader_reading_scores})\n",
    "\n",
    "# Minor data wrangling\n",
    "reading_scores_by_grade.index.name = None\n",
    "\n",
    "\n",
    "# Display the DataFrame\n",
    "reading_scores_by_grade"
   ]
  },
  {
   "cell_type": "markdown",
   "metadata": {},
   "source": [
    "## Scores by School Spending"
   ]
  },
  {
   "cell_type": "code",
   "execution_count": null,
   "metadata": {},
   "outputs": [],
   "source": [
    "# Establish the bins \n",
    "spending_bins = [0, 585, 630, 645, 680]\n",
    "group_labels = [\"<$585\", \"$585-630\", \"$630-645\", \"$645-680\"]"
   ]
  },
  {
   "cell_type": "code",
   "execution_count": null,
   "metadata": {},
   "outputs": [],
   "source": [
    "# Create a copy of the school summary since it has the \"Per Student Budget\" \n",
    "school_spending_df = per_school_summary.copy()"
   ]
  },
  {
   "cell_type": "code",
   "execution_count": null,
   "metadata": {},
   "outputs": [],
   "source": [
    "# Categorize spending based on the bins.\n",
    "per_school_summary[\"Spending Ranges (Per Student)\"] = pd.cut(per_school_capita, spending_bins, labels=group_labels)\n",
    "\n",
    "\n",
    "# Minor data wrangling\n",
    "per_school_summary.index.name = None\n",
    "\n",
    "\n",
    "#Disply per_school_summary \n",
    "per_school_summary"
   ]
  },
  {
   "cell_type": "code",
   "execution_count": null,
   "metadata": {},
   "outputs": [],
   "source": [
    "#  Calculate averages for the desired columns. \n",
    "spending_math_scores = per_school_summary.groupby([\"Spending Ranges (Per Student)\"])[\"Average Math Score\"].mean()\n",
    "spending_reading_scores = per_school_summary.groupby([\"Spending Ranges (Per Student)\"])[\"Average Reading Score\"].mean()\n",
    "spending_passing_math = per_school_summary.groupby([\"Spending Ranges (Per Student)\"])[\"% Passing Math\"].mean()\n",
    "spending_passing_reading = per_school_summary.groupby([\"Spending Ranges (Per Student)\"])[\"% Passing Reading\"].mean()\n",
    "overall_passing_spending = per_school_summary.groupby([\"Spending Ranges (Per Student)\"])[\"% Passing Overall\"].mean()\n",
    "\n",
    "print(spending_math_scores)"
   ]
  },
  {
   "cell_type": "code",
   "execution_count": null,
   "metadata": {},
   "outputs": [],
   "source": [
    "# Assemble into DataFrame\n",
    "spending_summary = pd.DataFrame({\"Spending per Math Score\": spending_math_scores,\n",
    "                                 \"Spending per Reading Score\": spending_reading_scores,\n",
    "                                 \"Spending per % Passing Math\": spending_passing_math,\n",
    "                                 \"Spending per % Passing Reading\": spending_passing_reading,\n",
    "                                 \"Speding per % Passing Overall\": overall_passing_spending})\n",
    "\n",
    "# Formatting\n",
    "spending_summary[\"Spending per Math Score\"] = spending_summary[\"Spending per Math Score\"].map(\"{:.1f}\".format)\n",
    "spending_summary[\"Spending per Reading Score\"] = spending_summary[\"Spending per Reading Score\"].map(\"{:.1f}\".format)\n",
    "spending_summary[\"Spending per % Passing Math\"] = spending_summary[\"Spending per % Passing Math\"].map(\"{:.1f}\".format)\n",
    "spending_summary[\"Spending per % Passing Reading\"] = spending_summary[\"Spending per % Passing Reading\"].map(\"{:.1f}\".format)\n",
    "spending_summary[\"Speding per % Passing Overall\"] = spending_summary[\"Speding per % Passing Overall\"].map(\"{:.1f}\".format)\n",
    "\n",
    "\n",
    "# Minor data wrangling\n",
    "spending_summary.index.name = None\n",
    "\n",
    "# Display results\n",
    "spending_summary"
   ]
  },
  {
   "cell_type": "markdown",
   "metadata": {},
   "source": [
    "## Scores by School Size"
   ]
  },
  {
   "cell_type": "code",
   "execution_count": null,
   "metadata": {},
   "outputs": [],
   "source": [
    "# Establish the bins.\n",
    "size_bins = [0, 1000, 2000, 5000]\n",
    "labels = [\"Small (<1000)\", \"Medium (1000-2000)\", \"Large (2000-5000)\"]"
   ]
  },
  {
   "cell_type": "code",
   "execution_count": null,
   "metadata": {},
   "outputs": [],
   "source": [
    "# Establish the bins.\n",
    "size_bins = [0, 1000, 2000, 5000]\n",
    "labels = [\"Small (<1000)\", \"Medium (1000-2000)\", \"Large (2000-5000)\"]"
   ]
  },
  {
   "cell_type": "code",
   "execution_count": null,
   "metadata": {},
   "outputs": [],
   "source": [
    "# Categorize the spending based on the bins\n",
    "\n",
    "# Use `pd.cut` on the \"Total Students\" column of the `per_school_summary` DataFrame.\n",
    "\n",
    "per_school_summary[\"School Size\"] = pd.cut(per_school_summary[\"Total Students\"], bins=size_bins, labels=labels)\n",
    "per_school_summary"
   ]
  },
  {
   "cell_type": "code",
   "execution_count": null,
   "metadata": {},
   "outputs": [],
   "source": [
    "# Calculate averages for the desired columns. \n",
    "size_math_scores = per_school_summary.groupby([\"School Size\"])[\"Average Math Score\"].mean()\n",
    "size_reading_scores = per_school_summary.groupby([\"School Size\"])[\"Average Reading Score\"].mean()\n",
    "size_passing_math = per_school_summary.groupby([\"School Size\"])[\"% Passing Math\"].mean()\n",
    "size_passing_reading = per_school_summary.groupby([\"School Size\"])[\"% Passing Reading\"].mean()\n",
    "size_overall_passing = per_school_summary.groupby([\"School Size\"])[\"% Passing Overall\"].mean()"
   ]
  },
  {
   "cell_type": "code",
   "execution_count": null,
   "metadata": {
    "scrolled": true
   },
   "outputs": [],
   "source": [
    "# Create a DataFrame called `size_summary` that breaks down school performance based on school size (small, medium, or large).\n",
    "# Use the scores above to create a new DataFrame called `size_summary`\n",
    "size_summary =  pd.DataFrame({\"Size per Math Scores\": size_math_scores,\n",
    "                                 \"Size per Reading Scores\": size_reading_scores,\n",
    "                                 \"Size per % Passing Math\": size_passing_math,\n",
    "                                 \"Size per % Passing Reading\": size_passing_reading,\n",
    "                                 \"Size per % Passing Overall\": size_overall_passing})\n",
    "# Formatting\n",
    "size_summary[\"Size per Math Scores\"] = size_summary[\"Size per Math Scores\"].map(\"{:.1f}\".format)\n",
    "size_summary[\"Size per Reading Scores\"] = size_summary[\"Size per Reading Scores\"].map(\"{:.1f}\".format)\n",
    "size_summary[\"Size per % Passing Math\"] = size_summary[\"Size per % Passing Math\"].map(\"{:.1f}\".format)\n",
    "size_summary[\"Size per % Passing Reading\"] = size_summary[\"Size per % Passing Reading\"].map(\"{:.1f}\".format)\n",
    "size_summary[\"Size per % Passing Overall\"] = size_summary[\"Size per % Passing Overall\"].map(\"{:.1f}\".format)\n",
    "\n",
    "\n",
    "\n",
    "# Minor data wrangling\n",
    "size_summary.index.name = None\n",
    "\n",
    "# Display results\n",
    "size_summary"
   ]
  },
  {
   "cell_type": "markdown",
   "metadata": {},
   "source": [
    "## Scores by School Type"
   ]
  },
  {
   "cell_type": "code",
   "execution_count": null,
   "metadata": {},
   "outputs": [],
   "source": [
    "# Calculate averages for the desired columns. \n",
    "per_school_summary['School Type'] = per_school_summary['School Type'].astype(str)\n",
    "\n",
    "avg_math_scores_by_type = per_school_summary.groupby([\"School Type\"])[\"Average Math Score\"].mean()\n",
    "avg_reading_scores_by_type = per_school_summary.groupby([\"School Type\"])[\"Average Reading Score\"].mean()\n",
    "avg_percent_passing_math_by_type = per_school_summary.groupby([\"School Type\"])[\"% Passing Math\"].mean()\n",
    "avg_percent_passing_reading_by_type = per_school_summary.groupby([\"School Type\"])[\"% Passing Reading\"].mean()\n",
    "avg_percent_passing_overall_by_type = per_school_summary.groupby([\"School Type\"])[\"% Passing Overall\"].mean()\n"
   ]
  },
  {
   "cell_type": "code",
   "execution_count": null,
   "metadata": {},
   "outputs": [],
   "source": [
    "# Assemble the new data by type into a DataFrame called `type_summary`\n",
    "type_summary = pd.DataFrame({\n",
    "    \"Avg Math Scores by School Type\": avg_math_scores_by_type,\n",
    "    \"Avg Reading Scores by School Type\": avg_reading_scores_by_type,\n",
    "    \"Avg % Passing Math by School Type\": avg_percent_passing_math_by_type,\n",
    "    \"Avg % Passing Reading by School Type\": avg_percent_passing_reading_by_type,\n",
    "    \"Avg % Passing Overall by School Type\": avg_percent_passing_overall_by_type})\n",
    "\n",
    "# Formatting\n",
    "type_summary[\"Avg Math Scores by School Type\"] = type_summary[\"Avg Math Scores by School Type\"].map(\"{:.1f}\".format)\n",
    "type_summary[\"Avg Reading Scores by School Type\"] = type_summary[\"Avg Reading Scores by School Type\"].map(\"{:.1f}\".format)\n",
    "type_summary[\"% Avg % Passing Math by School Type\"] = type_summary[\"Avg % Passing Math by School Type\"].map(\"{:.1f}\".format)\n",
    "type_summary[\"Avg % Passing Reading by School Type\"] = type_summary[\"Avg % Passing Reading by School Type\"].map(\"{:.1f}\".format)\n",
    "type_summary[\"Avg % Passing Overall by School Type\"] = type_summary[\"Avg % Passing Overall by School Type\"].map(\"{:.1f}\".format)\n",
    "\n",
    "\n",
    "\n",
    "# Minor data wrangling\n",
    "type_summary.index.name = None\n",
    "\n",
    "# Disply type_summary\n",
    "type_summary\n",
    "\n"
   ]
  },
  {
   "cell_type": "code",
   "execution_count": null,
   "metadata": {},
   "outputs": [],
   "source": []
  },
  {
   "cell_type": "code",
   "execution_count": null,
   "metadata": {},
   "outputs": [],
   "source": []
  }
 ],
 "metadata": {
  "anaconda-cloud": {},
  "kernel_info": {
   "name": "python3"
  },
  "kernelspec": {
   "display_name": "Python 3 (ipykernel)",
   "language": "python",
   "name": "python3"
  },
  "language_info": {
   "codemirror_mode": {
    "name": "ipython",
    "version": 3
   },
   "file_extension": ".py",
   "mimetype": "text/x-python",
   "name": "python",
   "nbconvert_exporter": "python",
   "pygments_lexer": "ipython3",
   "version": "3.9.13"
  },
  "latex_envs": {
   "LaTeX_envs_menu_present": true,
   "autoclose": false,
   "autocomplete": true,
   "bibliofile": "biblio.bib",
   "cite_by": "apalike",
   "current_citInitial": 1,
   "eqLabelWithNumbers": true,
   "eqNumInitial": 1,
   "hotkeys": {
    "equation": "Ctrl-E",
    "itemize": "Ctrl-I"
   },
   "labels_anchors": false,
   "latex_user_defs": false,
   "report_style_numbering": false,
   "user_envs_cfg": false
  },
  "nteract": {
   "version": "0.8.4"
  },
  "vscode": {
   "interpreter": {
    "hash": "5384d77d82de63fd599f73e77f9ec786e7719288bf80a29ec0288c670ac3cf32"
   }
  }
 },
 "nbformat": 4,
 "nbformat_minor": 4
}
